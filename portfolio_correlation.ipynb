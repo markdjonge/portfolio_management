import pandas as pd
import pandas_datareader as web
import matplotlib.pyplot as plt
import numpy as np